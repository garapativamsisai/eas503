{
 "cells": [
  {
   "cell_type": "code",
   "execution_count": 1,
   "id": "e0a5f612-03a5-4d7d-8b94-cbe8da03e5a7",
   "metadata": {},
   "outputs": [],
   "source": [
    "from IPython.core.interactiveshell import InteractiveShell\n",
    "InteractiveShell.ast_node_interactivity = \"all\" "
   ]
  },
  {
   "cell_type": "code",
   "execution_count": 3,
   "id": "e87bef3e-22e0-4862-b4f5-e62af675c2f6",
   "metadata": {},
   "outputs": [
    {
     "data": {
      "text/plain": [
       "2"
      ]
     },
     "execution_count": 3,
     "metadata": {},
     "output_type": "execute_result"
    },
    {
     "data": {
      "text/plain": [
       "3"
      ]
     },
     "execution_count": 3,
     "metadata": {},
     "output_type": "execute_result"
    }
   ],
   "source": [
    "a=2\n",
    "b=3\n",
    "a\n",
    "b"
   ]
  },
  {
   "cell_type": "code",
   "execution_count": 5,
   "id": "3d7c4381-de8a-4157-97bd-6dfcadca6417",
   "metadata": {},
   "outputs": [
    {
     "name": "stdout",
     "output_type": "stream",
     "text": [
      "Python list time: 0.05226 seconds\n",
      "NumPy array time: 0.00200 seconds\n"
     ]
    }
   ],
   "source": [
    "import numpy as np\n",
    "import time\n",
    "\n",
    "size = 1_000_000  # 1 million\n",
    "\n",
    "list1 = list(range(size))\n",
    "list2 = list(range(size))\n",
    "# [1,2,3,4....]\n",
    "# [1,2,3,4....]\n",
    "start = time.time()\n",
    "result_list = [list1[i] + list2[i] for i in range(size)]\n",
    "end = time.time()\n",
    "print(f\"Python list time: {end - start:.5f} seconds\")\n",
    "\n",
    "array1 = np.arange(size)\n",
    "array2 = np.arange(size)\n",
    "start = time.time()\n",
    "result_array = array1 + array2\n",
    "end = time.time()\n",
    "print(f\"NumPy array time: {end - start:.5f} seconds\")"
   ]
  },
  {
   "cell_type": "code",
   "execution_count": null,
   "id": "823ae9c3-aa29-41d2-86a5-9313b6b1df35",
   "metadata": {},
   "outputs": [],
   "source": [
    "#creating arrays"
   ]
  },
  {
   "cell_type": "code",
   "execution_count": 23,
   "id": "0a8f8d04-67af-4952-a773-d862f816f216",
   "metadata": {},
   "outputs": [
    {
     "data": {
      "text/plain": [
       "[0, 1, 2, 3, 4, 5, 6, 7, 8, 9]"
      ]
     },
     "execution_count": 23,
     "metadata": {},
     "output_type": "execute_result"
    },
    {
     "data": {
      "text/plain": [
       "array([0, 1, 2, 3, 4, 5, 6, 7, 8, 9])"
      ]
     },
     "execution_count": 23,
     "metadata": {},
     "output_type": "execute_result"
    },
    {
     "data": {
      "text/plain": [
       "[0, 1, 2, 3, 4, 5, 6, 7, 8, 9, 'y']"
      ]
     },
     "execution_count": 23,
     "metadata": {},
     "output_type": "execute_result"
    }
   ],
   "source": [
    "import numpy as np\n",
    "l=list(range(10))\n",
    "l\n",
    "np.array(l)\n",
    "l.append('y')\n",
    "l"
   ]
  },
  {
   "cell_type": "code",
   "execution_count": 15,
   "id": "5ec446c1-150b-478e-94cc-b395e08c1c52",
   "metadata": {},
   "outputs": [
    {
     "data": {
      "text/plain": [
       "array([[1, 2, 3],\n",
       "       [3, 4, 5]])"
      ]
     },
     "execution_count": 15,
     "metadata": {},
     "output_type": "execute_result"
    }
   ],
   "source": [
    "\n",
    "arr=np.array([[1,2,3],[3,4,5]])\n",
    "arr"
   ]
  },
  {
   "cell_type": "code",
   "execution_count": 25,
   "id": "f54f0c7b-2aef-45a1-a7ed-6991990750ad",
   "metadata": {},
   "outputs": [
    {
     "data": {
      "text/plain": [
       "(2, 3)"
      ]
     },
     "execution_count": 25,
     "metadata": {},
     "output_type": "execute_result"
    },
    {
     "data": {
      "text/plain": [
       "2"
      ]
     },
     "execution_count": 25,
     "metadata": {},
     "output_type": "execute_result"
    },
    {
     "data": {
      "text/plain": [
       "6"
      ]
     },
     "execution_count": 25,
     "metadata": {},
     "output_type": "execute_result"
    },
    {
     "data": {
      "text/plain": [
       "dtype('int64')"
      ]
     },
     "execution_count": 25,
     "metadata": {},
     "output_type": "execute_result"
    }
   ],
   "source": [
    "arr.shape\n",
    "arr.ndim\n",
    "arr.size\n",
    "arr.dtype"
   ]
  },
  {
   "cell_type": "code",
   "execution_count": 29,
   "id": "03542dcb-2654-4cee-aed5-470780575976",
   "metadata": {},
   "outputs": [
    {
     "data": {
      "text/plain": [
       "array([1, 2, 3, 4, 5, 6, 7, 8, 9])"
      ]
     },
     "execution_count": 29,
     "metadata": {},
     "output_type": "execute_result"
    }
   ],
   "source": [
    "# start,end,step\n",
    "np.arange(1,10)"
   ]
  },
  {
   "cell_type": "code",
   "execution_count": 35,
   "id": "908bb40e-df4a-4aee-86b8-716c400cf0b7",
   "metadata": {},
   "outputs": [
    {
     "data": {
      "text/plain": [
       "array([ 1.        ,  2.11111111,  3.22222222,  4.33333333,  5.44444444,\n",
       "        6.55555556,  7.66666667,  8.77777778,  9.88888889, 11.        ])"
      ]
     },
     "execution_count": 35,
     "metadata": {},
     "output_type": "execute_result"
    },
    {
     "data": {
      "text/plain": [
       "dtype('float64')"
      ]
     },
     "execution_count": 35,
     "metadata": {},
     "output_type": "execute_result"
    },
    {
     "data": {
      "text/plain": [
       "array([ 1,  2,  3,  4,  5,  6,  7,  8,  9, 11])"
      ]
     },
     "execution_count": 35,
     "metadata": {},
     "output_type": "execute_result"
    }
   ],
   "source": [
    "np.linspace(1,11,10)\n",
    "np.linspace(1,11,10).dtype\n",
    "np.linspace(1,11,10).astype(int)"
   ]
  },
  {
   "cell_type": "code",
   "execution_count": 37,
   "id": "d9cf3eac-0c97-4b53-8403-bffd6b938e1f",
   "metadata": {},
   "outputs": [
    {
     "data": {
      "text/plain": [
       "array([[1., 0., 0.],\n",
       "       [0., 1., 0.],\n",
       "       [0., 0., 1.]])"
      ]
     },
     "execution_count": 37,
     "metadata": {},
     "output_type": "execute_result"
    }
   ],
   "source": [
    "np.eye(3)"
   ]
  },
  {
   "cell_type": "code",
   "execution_count": 41,
   "id": "5d6bf6d9-e0cf-44e2-881a-69be7cc88e5e",
   "metadata": {},
   "outputs": [
    {
     "data": {
      "text/plain": [
       "array([[0., 0., 0.],\n",
       "       [0., 0., 0.]])"
      ]
     },
     "execution_count": 41,
     "metadata": {},
     "output_type": "execute_result"
    }
   ],
   "source": [
    "np.zeros((2,3))"
   ]
  },
  {
   "cell_type": "code",
   "execution_count": 43,
   "id": "fda07a9b-038b-4ada-9d2c-1e03220e57f3",
   "metadata": {},
   "outputs": [
    {
     "data": {
      "text/plain": [
       "array([[1., 1., 1., 1.],\n",
       "       [1., 1., 1., 1.],\n",
       "       [1., 1., 1., 1.]])"
      ]
     },
     "execution_count": 43,
     "metadata": {},
     "output_type": "execute_result"
    }
   ],
   "source": [
    "np.ones((3,4))"
   ]
  },
  {
   "cell_type": "code",
   "execution_count": 45,
   "id": "bcd4d9bb-2715-4e03-aa8f-41bb36841104",
   "metadata": {},
   "outputs": [
    {
     "data": {
      "text/plain": [
       "array([[1., 1., 1., 1.],\n",
       "       [1., 1., 1., 1.],\n",
       "       [1., 1., 1., 1.]])"
      ]
     },
     "execution_count": 45,
     "metadata": {},
     "output_type": "execute_result"
    }
   ],
   "source": [
    "np.empty((3,4))"
   ]
  },
  {
   "cell_type": "code",
   "execution_count": 61,
   "id": "f91b3242-97bb-4ab6-bca8-e693dc04b475",
   "metadata": {},
   "outputs": [
    {
     "data": {
      "text/plain": [
       "array([10, 11, 12, 13, 14, 15, 16, 17, 18, 19])"
      ]
     },
     "execution_count": 61,
     "metadata": {},
     "output_type": "execute_result"
    },
    {
     "data": {
      "text/plain": [
       "(10,)"
      ]
     },
     "execution_count": 61,
     "metadata": {},
     "output_type": "execute_result"
    },
    {
     "data": {
      "text/plain": [
       "array([[10, 11],\n",
       "       [12, 13],\n",
       "       [14, 15],\n",
       "       [16, 17],\n",
       "       [18, 19]])"
      ]
     },
     "execution_count": 61,
     "metadata": {},
     "output_type": "execute_result"
    }
   ],
   "source": [
    "a=np.arange(10,20)\n",
    "a\n",
    "a.shape\n",
    "a=a.reshape((5,2))\n",
    "a"
   ]
  },
  {
   "cell_type": "code",
   "execution_count": 63,
   "id": "974f7408-bc7f-4cc9-b2e5-44552f41487e",
   "metadata": {},
   "outputs": [
    {
     "data": {
      "text/plain": [
       "array([[10, 12, 14, 16, 18],\n",
       "       [11, 13, 15, 17, 19]])"
      ]
     },
     "execution_count": 63,
     "metadata": {},
     "output_type": "execute_result"
    }
   ],
   "source": [
    "a.T"
   ]
  },
  {
   "cell_type": "code",
   "execution_count": 67,
   "id": "b2cb3f18-42c8-4d9c-8e0d-5d0abf810eda",
   "metadata": {},
   "outputs": [
    {
     "data": {
      "text/plain": [
       "array([[0.60177184, 0.65963852, 0.80264099],\n",
       "       [0.61242432, 0.06586587, 0.82820748]])"
      ]
     },
     "execution_count": 67,
     "metadata": {},
     "output_type": "execute_result"
    }
   ],
   "source": [
    "np.random.random((2,3))"
   ]
  },
  {
   "cell_type": "code",
   "execution_count": 69,
   "id": "b7808423-58bd-4aff-80f3-7cd7d6eef0ee",
   "metadata": {},
   "outputs": [
    {
     "data": {
      "text/plain": [
       "array([[8, 8, 7],\n",
       "       [6, 9, 1]])"
      ]
     },
     "execution_count": 69,
     "metadata": {},
     "output_type": "execute_result"
    }
   ],
   "source": [
    "np.random.randint(1,10,(2,3))"
   ]
  },
  {
   "cell_type": "code",
   "execution_count": 73,
   "id": "682db8ab-191e-40b9-adee-1f7a13b0adb1",
   "metadata": {},
   "outputs": [],
   "source": [
    "arr=np.random.randint(10,20,(5,5))"
   ]
  },
  {
   "cell_type": "code",
   "execution_count": 109,
   "id": "3418ac0e-4b57-40fd-8138-841bbc2e1bd6",
   "metadata": {},
   "outputs": [
    {
     "data": {
      "text/plain": [
       "array([[13, 10, 15, 13, 14],\n",
       "       [19, 18, 11, 15, 19],\n",
       "       [16, 18, 17, 18, 15],\n",
       "       [12, 18, 11, 16, 14],\n",
       "       [18, 14, 16, 14, 19]])"
      ]
     },
     "execution_count": 109,
     "metadata": {},
     "output_type": "execute_result"
    }
   ],
   "source": [
    "np.random.seed(45)\n",
    "np.random.randint(10,20,(5,5))"
   ]
  },
  {
   "cell_type": "code",
   "execution_count": 117,
   "id": "6851f57f-8965-4afd-a2fa-2ef72ac3b1fb",
   "metadata": {},
   "outputs": [
    {
     "data": {
      "text/plain": [
       "[0, 1, 2, 3, 4, 5, 6, 7, 8, 9, 'y']"
      ]
     },
     "execution_count": 117,
     "metadata": {},
     "output_type": "execute_result"
    },
    {
     "data": {
      "text/plain": [
       "[1, 2, 3]"
      ]
     },
     "execution_count": 117,
     "metadata": {},
     "output_type": "execute_result"
    },
    {
     "data": {
      "text/plain": [
       "array([[11, 15, 13, 16, 18],\n",
       "       [15, 19, 12, 11, 10],\n",
       "       [11, 16, 15, 17, 11],\n",
       "       [15, 18, 19, 12, 15],\n",
       "       [10, 17, 16, 11, 16]])"
      ]
     },
     "execution_count": 117,
     "metadata": {},
     "output_type": "execute_result"
    }
   ],
   "source": [
    "l\n",
    "l[1:4]\n",
    "arr"
   ]
  },
  {
   "cell_type": "code",
   "execution_count": 121,
   "id": "143169ea-c699-4a2e-9a21-b11b792e788a",
   "metadata": {},
   "outputs": [
    {
     "data": {
      "text/plain": [
       "array([[11, 13, 18],\n",
       "       [11, 15, 11],\n",
       "       [10, 16, 16]])"
      ]
     },
     "execution_count": 121,
     "metadata": {},
     "output_type": "execute_result"
    }
   ],
   "source": [
    "# arr[#dim1,#dim2]\n",
    "arr[::2,::2]"
   ]
  },
  {
   "cell_type": "markdown",
   "id": "0b2ecca5-a026-430d-a318-92f99d6a02c2",
   "metadata": {},
   "source": [
    "# Vectorization"
   ]
  },
  {
   "cell_type": "code",
   "execution_count": 130,
   "id": "ee3e800c-13e4-46a7-a5da-2086f71cf35f",
   "metadata": {},
   "outputs": [
    {
     "data": {
      "text/plain": [
       "array([[11, 15, 13, 16, 18],\n",
       "       [15, 19, 12, 11, 10],\n",
       "       [11, 16, 15, 17, 11],\n",
       "       [15, 18, 19, 12, 15],\n",
       "       [10, 17, 16, 11, 16]])"
      ]
     },
     "execution_count": 130,
     "metadata": {},
     "output_type": "execute_result"
    },
    {
     "data": {
      "text/plain": [
       "array([[14, 18, 16, 19, 21],\n",
       "       [18, 22, 15, 14, 13],\n",
       "       [14, 19, 18, 20, 14],\n",
       "       [18, 21, 22, 15, 18],\n",
       "       [13, 20, 19, 14, 19]])"
      ]
     },
     "execution_count": 130,
     "metadata": {},
     "output_type": "execute_result"
    },
    {
     "data": {
      "text/plain": [
       "array([[ 7, 11,  9, 12, 14],\n",
       "       [11, 15,  8,  7,  6],\n",
       "       [ 7, 12, 11, 13,  7],\n",
       "       [11, 14, 15,  8, 11],\n",
       "       [ 6, 13, 12,  7, 12]])"
      ]
     },
     "execution_count": 130,
     "metadata": {},
     "output_type": "execute_result"
    },
    {
     "data": {
      "text/plain": [
       "array([[22, 30, 26, 32, 36],\n",
       "       [30, 38, 24, 22, 20],\n",
       "       [22, 32, 30, 34, 22],\n",
       "       [30, 36, 38, 24, 30],\n",
       "       [20, 34, 32, 22, 32]])"
      ]
     },
     "execution_count": 130,
     "metadata": {},
     "output_type": "execute_result"
    },
    {
     "data": {
      "text/plain": [
       "array([[121, 225, 169, 256, 324],\n",
       "       [225, 361, 144, 121, 100],\n",
       "       [121, 256, 225, 289, 121],\n",
       "       [225, 324, 361, 144, 225],\n",
       "       [100, 289, 256, 121, 256]])"
      ]
     },
     "execution_count": 130,
     "metadata": {},
     "output_type": "execute_result"
    }
   ],
   "source": [
    "arr\n",
    "arr+3\n",
    "arr-4\n",
    "arr+arr\n",
    "arr**2\n",
    "arr*arr"
   ]
  },
  {
   "cell_type": "code",
   "execution_count": 138,
   "id": "c68dd070-c089-4377-9a5d-b9d1bba617d1",
   "metadata": {},
   "outputs": [
    {
     "data": {
      "text/plain": [
       "array([[10],\n",
       "       [19],\n",
       "       [12],\n",
       "       [16],\n",
       "       [17]])"
      ]
     },
     "execution_count": 138,
     "metadata": {},
     "output_type": "execute_result"
    },
    {
     "data": {
      "text/plain": [
       "array([[10, 10, 12, 19, 12]])"
      ]
     },
     "execution_count": 138,
     "metadata": {},
     "output_type": "execute_result"
    }
   ],
   "source": [
    "a1=np.random.randint(10,20,(5,1))\n",
    "a1\n",
    "a2=np.random.randint(10,20,(1,5))\n",
    "a2"
   ]
  },
  {
   "cell_type": "code",
   "execution_count": 140,
   "id": "6a7ac7c6-db31-4292-8a80-b0f20eae1b17",
   "metadata": {},
   "outputs": [
    {
     "data": {
      "text/plain": [
       "array([[21, 25, 23, 26, 28],\n",
       "       [34, 38, 31, 30, 29],\n",
       "       [23, 28, 27, 29, 23],\n",
       "       [31, 34, 35, 28, 31],\n",
       "       [27, 34, 33, 28, 33]])"
      ]
     },
     "execution_count": 140,
     "metadata": {},
     "output_type": "execute_result"
    },
    {
     "data": {
      "text/plain": [
       "array([[21, 25, 25, 35, 30],\n",
       "       [25, 29, 24, 30, 22],\n",
       "       [21, 26, 27, 36, 23],\n",
       "       [25, 28, 31, 31, 27],\n",
       "       [20, 27, 28, 30, 28]])"
      ]
     },
     "execution_count": 140,
     "metadata": {},
     "output_type": "execute_result"
    }
   ],
   "source": [
    "arr+a1\n",
    "arr+a2"
   ]
  },
  {
   "cell_type": "code",
   "execution_count": 146,
   "id": "4ef0f521-2104-4744-9b6f-922993c779b4",
   "metadata": {},
   "outputs": [
    {
     "data": {
      "text/plain": [
       "array([[11, 15, 13, 16, 18],\n",
       "       [15, 19, 12, 11, 10],\n",
       "       [11, 16, 15, 17, 11],\n",
       "       [15, 18, 19, 12, 15],\n",
       "       [10, 17, 16, 11, 16]])"
      ]
     },
     "execution_count": 146,
     "metadata": {},
     "output_type": "execute_result"
    },
    {
     "data": {
      "text/plain": [
       "14.36"
      ]
     },
     "execution_count": 146,
     "metadata": {},
     "output_type": "execute_result"
    },
    {
     "data": {
      "text/plain": [
       "2.854890540808877"
      ]
     },
     "execution_count": 146,
     "metadata": {},
     "output_type": "execute_result"
    }
   ],
   "source": [
    "arr\n",
    "arr.mean()\n",
    "arr.std()"
   ]
  },
  {
   "cell_type": "code",
   "execution_count": 150,
   "id": "98eac3a4-f918-44c3-91b3-e4d327d0d709",
   "metadata": {},
   "outputs": [
    {
     "data": {
      "text/plain": [
       "array([12.4, 17. , 15. , 13.4, 14. ])"
      ]
     },
     "execution_count": 150,
     "metadata": {},
     "output_type": "execute_result"
    },
    {
     "data": {
      "text/plain": [
       "array([14.6, 13.4, 14. , 15.8, 14. ])"
      ]
     },
     "execution_count": 150,
     "metadata": {},
     "output_type": "execute_result"
    }
   ],
   "source": [
    "arr.mean(axis=0)\n",
    "arr.mean(axis=1)"
   ]
  },
  {
   "cell_type": "code",
   "execution_count": 154,
   "id": "2a6764ae-e0e4-4533-9c76-93abdb76fbce",
   "metadata": {},
   "outputs": [
    {
     "data": {
      "text/plain": [
       "array([[11, 13, 15, 16, 18],\n",
       "       [10, 11, 12, 15, 19],\n",
       "       [11, 11, 15, 16, 17],\n",
       "       [12, 15, 15, 18, 19],\n",
       "       [10, 11, 16, 16, 17]])"
      ]
     },
     "execution_count": 154,
     "metadata": {},
     "output_type": "execute_result"
    }
   ],
   "source": [
    "arr.sort(axis=1)\n",
    "arr"
   ]
  },
  {
   "cell_type": "code",
   "execution_count": 158,
   "id": "d182f180-e554-4287-9638-73fae07fa56a",
   "metadata": {},
   "outputs": [
    {
     "data": {
      "text/plain": [
       "array([[ 788,  889, 1074, 1187, 1310],\n",
       "       [ 722,  817,  991, 1091, 1201],\n",
       "       [ 758,  856, 1034, 1141, 1255],\n",
       "       [ 853,  965, 1159, 1285, 1421],\n",
       "       [ 758,  854, 1034, 1141, 1254]])"
      ]
     },
     "execution_count": 158,
     "metadata": {},
     "output_type": "execute_result"
    },
    {
     "data": {
      "text/plain": [
       "array([[ 788,  889, 1074, 1187, 1310],\n",
       "       [ 722,  817,  991, 1091, 1201],\n",
       "       [ 758,  856, 1034, 1141, 1255],\n",
       "       [ 853,  965, 1159, 1285, 1421],\n",
       "       [ 758,  854, 1034, 1141, 1254]])"
      ]
     },
     "execution_count": 158,
     "metadata": {},
     "output_type": "execute_result"
    }
   ],
   "source": [
    "arr@arr\n",
    "np.matmul(arr,arr)"
   ]
  },
  {
   "cell_type": "code",
   "execution_count": 160,
   "id": "2c6d6462-a607-43de-bcbd-b91a6fbd9b67",
   "metadata": {},
   "outputs": [
    {
     "data": {
      "text/plain": [
       "-305.00000000000034"
      ]
     },
     "execution_count": 160,
     "metadata": {},
     "output_type": "execute_result"
    }
   ],
   "source": [
    "np.linalg.det(arr)"
   ]
  },
  {
   "cell_type": "code",
   "execution_count": 162,
   "id": "f5093e30-80bc-4c91-b74c-816814c58080",
   "metadata": {},
   "outputs": [
    {
     "data": {
      "text/plain": [
       "2.0"
      ]
     },
     "execution_count": 162,
     "metadata": {},
     "output_type": "execute_result"
    }
   ],
   "source": [
    "np.linalg.norm(2)"
   ]
  },
  {
   "cell_type": "code",
   "execution_count": 166,
   "id": "eafe043f-41ce-433f-a8bb-a21f4dfeedb8",
   "metadata": {},
   "outputs": [
    {
     "data": {
      "text/plain": [
       "array([[11, 13, 15, 16, 18],\n",
       "       [10, 11, 12, 15, 19],\n",
       "       [11, 11, 15, 16, 17],\n",
       "       [12, 15, 15, 18, 19],\n",
       "       [10, 11, 16, 16, 17]])"
      ]
     },
     "execution_count": 166,
     "metadata": {},
     "output_type": "execute_result"
    },
    {
     "data": {
      "text/plain": [
       "array([[False, False, False,  True,  True],\n",
       "       [False, False, False, False,  True],\n",
       "       [False, False, False,  True,  True],\n",
       "       [False, False, False,  True,  True],\n",
       "       [False, False,  True,  True,  True]])"
      ]
     },
     "execution_count": 166,
     "metadata": {},
     "output_type": "execute_result"
    }
   ],
   "source": [
    "arr\n",
    "arr>15"
   ]
  },
  {
   "cell_type": "code",
   "execution_count": 168,
   "id": "2811a0da-c71e-44e2-8fe9-4de0609e77d6",
   "metadata": {},
   "outputs": [
    {
     "data": {
      "text/plain": [
       "array([16, 18, 19, 16, 17, 18, 19, 16, 16, 17])"
      ]
     },
     "execution_count": 168,
     "metadata": {},
     "output_type": "execute_result"
    }
   ],
   "source": [
    "arr[arr>15]"
   ]
  },
  {
   "cell_type": "code",
   "execution_count": 216,
   "id": "3c8317e5-09ea-4e5e-abc8-34bb46d9501d",
   "metadata": {},
   "outputs": [
    {
     "data": {
      "text/plain": [
       "array([[13, 15, 15, 17, 11],\n",
       "       [10, 12, 11, 19, 12],\n",
       "       [13, 19, 16, 13, 16],\n",
       "       [11, 19, 11, 17, 14],\n",
       "       [10, 12, 11, 11, 14]])"
      ]
     },
     "execution_count": 216,
     "metadata": {},
     "output_type": "execute_result"
    }
   ],
   "source": [
    "arr=np.random.randint(10,20,(5,5))\n",
    "arr"
   ]
  },
  {
   "cell_type": "code",
   "execution_count": 206,
   "id": "02b6fb12-2980-4bab-83a1-bd11dcbd0b99",
   "metadata": {},
   "outputs": [
    {
     "data": {
      "text/plain": [
       "array([[ 3,  3,  3,  3,  3],\n",
       "       [ 3,  3,  3,  3,  3],\n",
       "       [17, 14, 19, 19, 19]])"
      ]
     },
     "execution_count": 206,
     "metadata": {},
     "output_type": "execute_result"
    },
    {
     "data": {
      "text/plain": [
       "array([[ 3,  3,  3,  3,  3],\n",
       "       [ 3,  3,  3,  3,  3],\n",
       "       [17, 14, 19, 19, 19]])"
      ]
     },
     "execution_count": 206,
     "metadata": {},
     "output_type": "execute_result"
    },
    {
     "data": {
      "text/plain": [
       "array([[ 3,  3,  3,  3,  3],\n",
       "       [18, 18, 10, 16, 17],\n",
       "       [ 3,  3,  3,  3,  3],\n",
       "       [15, 19, 13, 12, 17],\n",
       "       [17, 14, 19, 19, 19]])"
      ]
     },
     "execution_count": 206,
     "metadata": {},
     "output_type": "execute_result"
    }
   ],
   "source": [
    "w=arr[::2]\n",
    "w\n",
    "w[:2]=3\n",
    "w\n",
    "arr\n"
   ]
  },
  {
   "cell_type": "code",
   "execution_count": 214,
   "id": "a5c33cc2-9c75-42a8-8fae-95017a98d862",
   "metadata": {},
   "outputs": [
    {
     "data": {
      "text/plain": [
       "array([[19, 17, 12, 17, 19],\n",
       "       [16, 12, 17, 17, 16],\n",
       "       [14, 19, 13, 15, 17]])"
      ]
     },
     "execution_count": 214,
     "metadata": {},
     "output_type": "execute_result"
    },
    {
     "data": {
      "text/plain": [
       "array([[ 3,  3,  3,  3,  3],\n",
       "       [ 3,  3,  3,  3,  3],\n",
       "       [14, 19, 13, 15, 17]])"
      ]
     },
     "execution_count": 214,
     "metadata": {},
     "output_type": "execute_result"
    },
    {
     "data": {
      "text/plain": [
       "array([[19, 17, 12, 17, 19],\n",
       "       [14, 15, 17, 19, 17],\n",
       "       [16, 12, 17, 17, 16],\n",
       "       [16, 13, 16, 10, 17],\n",
       "       [14, 19, 13, 15, 17]])"
      ]
     },
     "execution_count": 214,
     "metadata": {},
     "output_type": "execute_result"
    }
   ],
   "source": [
    "w=arr[::2].copy()\n",
    "w\n",
    "w[:2]=3\n",
    "w\n",
    "arr"
   ]
  },
  {
   "cell_type": "code",
   "execution_count": 218,
   "id": "b14937e9-d404-4269-9011-8b50b6ed94dd",
   "metadata": {},
   "outputs": [
    {
     "data": {
      "text/plain": [
       "array([[-1, -1, -1, 17, -1],\n",
       "       [-1, -1, -1, 19, -1],\n",
       "       [-1, 19, 16, -1, 16],\n",
       "       [-1, 19, -1, 17, -1],\n",
       "       [-1, -1, -1, -1, -1]])"
      ]
     },
     "execution_count": 218,
     "metadata": {},
     "output_type": "execute_result"
    }
   ],
   "source": [
    "arr[~(arr>15)]=-1\n",
    "arr"
   ]
  },
  {
   "cell_type": "code",
   "execution_count": null,
   "id": "7285ecbe-7255-466d-8b3a-af52619afdbe",
   "metadata": {},
   "outputs": [],
   "source": []
  }
 ],
 "metadata": {
  "kernelspec": {
   "display_name": "Python 3 (ipykernel)",
   "language": "python",
   "name": "python3"
  },
  "language_info": {
   "codemirror_mode": {
    "name": "ipython",
    "version": 3
   },
   "file_extension": ".py",
   "mimetype": "text/x-python",
   "name": "python",
   "nbconvert_exporter": "python",
   "pygments_lexer": "ipython3",
   "version": "3.12.4"
  }
 },
 "nbformat": 4,
 "nbformat_minor": 5
}
